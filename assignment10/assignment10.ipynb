{
 "cells": [
  {
   "cell_type": "markdown",
   "metadata": {},
   "source": [
    "# This script demonstrates the least square approximate solution\n",
    "# Name : Sunjun Hwang\n",
    "# Student ID : 20151766\n",
    "# github link : https://github.com/tjswns494/Mathematical-Foundations-for-Computer-Vision-and-Machine-Learning-assignment.git\n"
   ]
  },
  {
   "cell_type": "markdown",
   "metadata": {},
   "source": [
    "# import packages for plotting images and manipulating data and construct table:"
   ]
  },
  {
   "cell_type": "code",
   "execution_count": 1,
   "metadata": {},
   "outputs": [],
   "source": [
    "import matplotlib.pyplot as plt\n",
    "import numpy as np\n",
    "import pandas as pd"
   ]
  },
  {
   "cell_type": "markdown",
   "metadata": {},
   "source": [
    "# read image"
   ]
  },
  {
   "cell_type": "code",
   "execution_count": 2,
   "metadata": {},
   "outputs": [],
   "source": [
    "file_data_train = \"mnist_train.csv\"\n",
    "file_data_test  = \"mnist_test.csv\"\n",
    "\n",
    "h_data_train    = open(file_data_train, \"r\")\n",
    "h_data_test     = open(file_data_test, \"r\")\n",
    "\n",
    "data_train      = h_data_train.readlines()\n",
    "data_test       = h_data_test.readlines()\n",
    "\n",
    "h_data_train.close()\n",
    "h_data_test.close()\n",
    "\n",
    "size_row    = 28    # height of the image\n",
    "size_col    = 28    # width of the image\n",
    "\n",
    "num_train   = len(data_train)   # number of training images\n",
    "num_test    = len(data_test)    # number of testing images\n"
   ]
  },
  {
   "cell_type": "markdown",
   "metadata": {},
   "source": [
    "# define normalize function"
   ]
  },
  {
   "cell_type": "code",
   "execution_count": 3,
   "metadata": {},
   "outputs": [],
   "source": [
    "\n",
    "#\n",
    "# normalize the values of the input data to be [0, 1]\n",
    "#\n",
    "def normalize(data):\n",
    "\n",
    "    data_normalized = (data - min(data)) / (max(data) - min(data))\n",
    "\n",
    "    return(data_normalized)"
   ]
  },
  {
   "cell_type": "markdown",
   "metadata": {},
   "source": [
    "# make a matrix each column of which represents an images in a vector form "
   ]
  },
  {
   "cell_type": "code",
   "execution_count": 4,
   "metadata": {},
   "outputs": [],
   "source": [
    "list_image_train    = np.empty((size_row * size_col, num_train), dtype=float)\n",
    "list_label_train    = np.empty(num_train, dtype=int)\n",
    "\n",
    "list_image_test     = np.empty((size_row * size_col, num_test), dtype=float)\n",
    "list_label_test     = np.empty(num_test, dtype=int)"
   ]
  },
  {
   "cell_type": "markdown",
   "metadata": {},
   "source": [
    "# split image in to one column vector"
   ]
  },
  {
   "cell_type": "code",
   "execution_count": 5,
   "metadata": {},
   "outputs": [],
   "source": [
    "count = 0\n",
    "\n",
    "for line in data_train:\n",
    "\n",
    "    line_data   = line.split(',')\n",
    "    label       = line_data[0]\n",
    "    im_vector   = np.asfarray(line_data[1:])\n",
    "    im_vector   = normalize(im_vector)\n",
    "\n",
    "    list_label_train[count]     = label\n",
    "    list_image_train[:, count]  = im_vector    \n",
    "\n",
    "    count += 1\n",
    "\n",
    "count = 0\n",
    "\n",
    "for line in data_test:\n",
    "\n",
    "    line_data   = line.split(',')\n",
    "    label       = line_data[0]\n",
    "    im_vector   = np.asfarray(line_data[1:])\n",
    "    im_vector   = normalize(im_vector)\n",
    "\n",
    "    list_label_test[count]      = label\n",
    "    list_image_test[:, count]   = im_vector    \n",
    "\n",
    "    count += 1\n"
   ]
  },
  {
   "cell_type": "markdown",
   "metadata": {},
   "source": [
    "# define b= -1 if b is not num, b=1 if b is num"
   ]
  },
  {
   "cell_type": "code",
   "execution_count": 6,
   "metadata": {},
   "outputs": [],
   "source": [
    "def b_label(b,num):\n",
    "    label=np.zeros(list_label_train.size)\n",
    "    for i in range(label.size):\n",
    "        if b[i]!=num:\n",
    "            label[i]=-1\n",
    "        else:\n",
    "            label[i]=1\n",
    "    return label"
   ]
  },
  {
   "cell_type": "markdown",
   "metadata": {},
   "source": [
    "# define least square function"
   ]
  },
  {
   "cell_type": "code",
   "execution_count": 7,
   "metadata": {},
   "outputs": [],
   "source": [
    "\n",
    "def lsp(list_image_train,list_label_train,p,label):\n",
    "    result=np.zeros(list_label_train.size)\n",
    "    A=list_image_train.T\n",
    "    s=np.random.normal(0, 1, (p,784))\n",
    "    A1=s.dot(A.T)\n",
    "    \n",
    "    lsp_result=np.linalg.pinv(A1.dot(A1.T)).dot(A1).dot(label)\n",
    "    test=s.dot(list_image_test)\n",
    "    for i in range(p):\n",
    "        result=lsp_result.dot(test)\n",
    "    return result\n"
   ]
  },
  {
   "cell_type": "markdown",
   "metadata": {},
   "source": [
    "# define the ^{f} classifier using argmax"
   ]
  },
  {
   "cell_type": "code",
   "execution_count": 8,
   "metadata": {},
   "outputs": [],
   "source": [
    "def fhat(label):\n",
    "    fhat_result=np.zeros(list_label_test.size)\n",
    "    for i in range (list_label_test.size):\n",
    "        fhat_result[i]=pd.Series(label[i]).idxmax()\n",
    "    return fhat_result"
   ]
  },
  {
   "cell_type": "markdown",
   "metadata": {},
   "source": [
    "# define F1"
   ]
  },
  {
   "cell_type": "code",
   "execution_count": 9,
   "metadata": {},
   "outputs": [],
   "source": [
    "def f1(num):\n",
    "    TP,FP,FN,TN=0,0,0,0\n",
    "    for i in range(10):\n",
    "        TP+=num[i][i]\n",
    "        for j in range(10):\n",
    "            FP+=num[j][i]\n",
    "            FN+=num[i][j]\n",
    "            \n",
    "    TN=10000-TP-FP-FN\n",
    "\n",
    "    precision=TP/(TP+FP)\n",
    "    recall=TP/(FN+TP)\n",
    "    f1=2*precision*recall/(precision+recall)\n",
    "    return f1\n",
    "\n"
   ]
  },
  {
   "cell_type": "markdown",
   "metadata": {},
   "source": [
    "# Try with varying the number of parameters p with the standard deviation 1 of the random feature vector r"
   ]
  },
  {
   "cell_type": "code",
   "execution_count": 10,
   "metadata": {},
   "outputs": [],
   "source": [
    "f1_result=np.zeros(10)\n",
    "p=[32,64,128,256,512]\n",
    "b=list_label_train.T\n",
    "label=np.zeros((10,list_label_train.size))\n",
    "lsp_result=np.zeros((10,list_label_test.size))\n",
    "fhat_result=np.zeros((len(p),list_label_test.size))\n",
    "f1_result=np.zeros(len(p))\n",
    "\n",
    "for i in range(10):\n",
    "    label[i]=b_label(b,i)\n",
    "for i in range(len(p)):\n",
    "    for j in range(10):\n",
    "        lsp_result[j]=lsp(list_image_train,list_label_train,p[i],label[j])\n",
    "    fhat_result[i]=fhat(lsp_result.T)"
   ]
  },
  {
   "cell_type": "markdown",
   "metadata": {},
   "source": [
    "# Present the confusion matrix M(i; j) that indicates the number of classification for the digit i as the digit j"
   ]
  },
  {
   "cell_type": "code",
   "execution_count": 11,
   "metadata": {},
   "outputs": [
    {
     "name": "stdout",
     "output_type": "stream",
     "text": [
      "p: 32\n",
      "f1 score: 0.40824900881708975\n",
      "p: 64\n",
      "f1 score: 0.4433890730729026\n",
      "p: 128\n",
      "f1 score: 0.4554431957720994\n",
      "p: 256\n",
      "f1 score: 0.4595711627001075\n",
      "p: 512\n",
      "f1 score: 0.46065274692090846\n"
     ]
    },
    {
     "data": {
      "text/html": [
       "<div>\n",
       "<style scoped>\n",
       "    .dataframe tbody tr th:only-of-type {\n",
       "        vertical-align: middle;\n",
       "    }\n",
       "\n",
       "    .dataframe tbody tr th {\n",
       "        vertical-align: top;\n",
       "    }\n",
       "\n",
       "    .dataframe thead th {\n",
       "        text-align: right;\n",
       "    }\n",
       "</style>\n",
       "<table border=\"1\" class=\"dataframe\">\n",
       "  <thead>\n",
       "    <tr style=\"text-align: right;\">\n",
       "      <th></th>\n",
       "      <th>0</th>\n",
       "      <th>1</th>\n",
       "      <th>2</th>\n",
       "      <th>3</th>\n",
       "      <th>4</th>\n",
       "      <th>5</th>\n",
       "      <th>6</th>\n",
       "      <th>7</th>\n",
       "      <th>8</th>\n",
       "      <th>9</th>\n",
       "    </tr>\n",
       "  </thead>\n",
       "  <tbody>\n",
       "    <tr>\n",
       "      <th>0</th>\n",
       "      <td>0.959181</td>\n",
       "      <td>0.000000</td>\n",
       "      <td>1.744280e-02</td>\n",
       "      <td>0.003962</td>\n",
       "      <td>0.001017</td>\n",
       "      <td>0.024664</td>\n",
       "      <td>2.087574e-02</td>\n",
       "      <td>4.863812e-03</td>\n",
       "      <td>0.017455</td>\n",
       "      <td>1.784141e-02</td>\n",
       "    </tr>\n",
       "    <tr>\n",
       "      <th>1</th>\n",
       "      <td>0.000001</td>\n",
       "      <td>0.974448</td>\n",
       "      <td>5.523351e-02</td>\n",
       "      <td>0.013866</td>\n",
       "      <td>0.022403</td>\n",
       "      <td>0.019057</td>\n",
       "      <td>1.043841e-02</td>\n",
       "      <td>3.502230e-02</td>\n",
       "      <td>0.055449</td>\n",
       "      <td>1.189395e-02</td>\n",
       "    </tr>\n",
       "    <tr>\n",
       "      <th>2</th>\n",
       "      <td>0.002040</td>\n",
       "      <td>0.001762</td>\n",
       "      <td>7.877982e-01</td>\n",
       "      <td>0.023760</td>\n",
       "      <td>0.006110</td>\n",
       "      <td>0.004487</td>\n",
       "      <td>9.396752e-03</td>\n",
       "      <td>1.459144e-02</td>\n",
       "      <td>0.010267</td>\n",
       "      <td>3.963342e-03</td>\n",
       "    </tr>\n",
       "    <tr>\n",
       "      <th>3</th>\n",
       "      <td>0.003060</td>\n",
       "      <td>0.001761</td>\n",
       "      <td>2.519381e-02</td>\n",
       "      <td>0.881180</td>\n",
       "      <td>0.003052</td>\n",
       "      <td>0.095299</td>\n",
       "      <td>1.136191e-09</td>\n",
       "      <td>7.783043e-03</td>\n",
       "      <td>0.032857</td>\n",
       "      <td>1.288601e-02</td>\n",
       "    </tr>\n",
       "    <tr>\n",
       "      <th>4</th>\n",
       "      <td>0.001021</td>\n",
       "      <td>0.000882</td>\n",
       "      <td>1.646819e-02</td>\n",
       "      <td>0.001981</td>\n",
       "      <td>0.882894</td>\n",
       "      <td>0.019061</td>\n",
       "      <td>2.191957e-02</td>\n",
       "      <td>2.139794e-02</td>\n",
       "      <td>0.027722</td>\n",
       "      <td>7.333602e-02</td>\n",
       "    </tr>\n",
       "    <tr>\n",
       "      <th>5</th>\n",
       "      <td>0.008165</td>\n",
       "      <td>0.000881</td>\n",
       "      <td>9.371334e-07</td>\n",
       "      <td>0.012875</td>\n",
       "      <td>0.003055</td>\n",
       "      <td>0.702871</td>\n",
       "      <td>1.983298e-02</td>\n",
       "      <td>2.602955e-15</td>\n",
       "      <td>0.039010</td>\n",
       "      <td>9.851548e-07</td>\n",
       "    </tr>\n",
       "    <tr>\n",
       "      <th>6</th>\n",
       "      <td>0.015308</td>\n",
       "      <td>0.004405</td>\n",
       "      <td>3.584708e-02</td>\n",
       "      <td>0.008911</td>\n",
       "      <td>0.010185</td>\n",
       "      <td>0.023554</td>\n",
       "      <td>9.081431e-01</td>\n",
       "      <td>9.746543e-04</td>\n",
       "      <td>0.015406</td>\n",
       "      <td>9.920654e-04</td>\n",
       "    </tr>\n",
       "    <tr>\n",
       "      <th>7</th>\n",
       "      <td>0.002040</td>\n",
       "      <td>0.001762</td>\n",
       "      <td>1.841461e-02</td>\n",
       "      <td>0.022777</td>\n",
       "      <td>0.002037</td>\n",
       "      <td>0.014580</td>\n",
       "      <td>3.551819e-12</td>\n",
       "      <td>8.560387e-01</td>\n",
       "      <td>0.014375</td>\n",
       "      <td>7.432906e-02</td>\n",
       "    </tr>\n",
       "    <tr>\n",
       "      <th>8</th>\n",
       "      <td>0.007144</td>\n",
       "      <td>0.014098</td>\n",
       "      <td>3.778789e-02</td>\n",
       "      <td>0.019797</td>\n",
       "      <td>0.014254</td>\n",
       "      <td>0.074002</td>\n",
       "      <td>9.393484e-03</td>\n",
       "      <td>4.862868e-03</td>\n",
       "      <td>0.765903</td>\n",
       "      <td>9.908839e-03</td>\n",
       "    </tr>\n",
       "    <tr>\n",
       "      <th>9</th>\n",
       "      <td>0.002040</td>\n",
       "      <td>0.000000</td>\n",
       "      <td>5.813014e-03</td>\n",
       "      <td>0.010889</td>\n",
       "      <td>0.054993</td>\n",
       "      <td>0.022425</td>\n",
       "      <td>1.133829e-09</td>\n",
       "      <td>5.446526e-02</td>\n",
       "      <td>0.021556</td>\n",
       "      <td>7.948483e-01</td>\n",
       "    </tr>\n",
       "  </tbody>\n",
       "</table>\n",
       "</div>"
      ],
      "text/plain": [
       "          0         1             2         3         4         5  \\\n",
       "0  0.959181  0.000000  1.744280e-02  0.003962  0.001017  0.024664   \n",
       "1  0.000001  0.974448  5.523351e-02  0.013866  0.022403  0.019057   \n",
       "2  0.002040  0.001762  7.877982e-01  0.023760  0.006110  0.004487   \n",
       "3  0.003060  0.001761  2.519381e-02  0.881180  0.003052  0.095299   \n",
       "4  0.001021  0.000882  1.646819e-02  0.001981  0.882894  0.019061   \n",
       "5  0.008165  0.000881  9.371334e-07  0.012875  0.003055  0.702871   \n",
       "6  0.015308  0.004405  3.584708e-02  0.008911  0.010185  0.023554   \n",
       "7  0.002040  0.001762  1.841461e-02  0.022777  0.002037  0.014580   \n",
       "8  0.007144  0.014098  3.778789e-02  0.019797  0.014254  0.074002   \n",
       "9  0.002040  0.000000  5.813014e-03  0.010889  0.054993  0.022425   \n",
       "\n",
       "              6             7         8             9  \n",
       "0  2.087574e-02  4.863812e-03  0.017455  1.784141e-02  \n",
       "1  1.043841e-02  3.502230e-02  0.055449  1.189395e-02  \n",
       "2  9.396752e-03  1.459144e-02  0.010267  3.963342e-03  \n",
       "3  1.136191e-09  7.783043e-03  0.032857  1.288601e-02  \n",
       "4  2.191957e-02  2.139794e-02  0.027722  7.333602e-02  \n",
       "5  1.983298e-02  2.602955e-15  0.039010  9.851548e-07  \n",
       "6  9.081431e-01  9.746543e-04  0.015406  9.920654e-04  \n",
       "7  3.551819e-12  8.560387e-01  0.014375  7.432906e-02  \n",
       "8  9.393484e-03  4.862868e-03  0.765903  9.908839e-03  \n",
       "9  1.133829e-09  5.446526e-02  0.021556  7.948483e-01  "
      ]
     },
     "execution_count": 11,
     "metadata": {},
     "output_type": "execute_result"
    }
   ],
   "source": [
    "num=np.zeros((10,10))\n",
    "for i in range(len(p)):\n",
    "    print(\"p: \"+str(p[i]))\n",
    "    for j in range(list_label_test.size):\n",
    "        num[list_label_test[j]][int(fhat_result[i][j])]+=1\n",
    "    f1_result[i]=f1(num)\n",
    "    print(\"f1 score: \"+str(f1_result[i]))\n",
    "    for k in range(10):\n",
    "        num[k]/=np.sum(num[k])\n",
    "    df=pd.DataFrame({'0':[num[0][0],num[0][1],num[0][2],num[0][3],num[0][4],num[0][5],num[0][6],num[0][7],num[0][8],num[0][9]],\n",
    "                 '1':[num[1][0],num[1][1],num[1][2],num[1][3],num[1][4],num[1][5],num[1][6],num[1][7],num[1][8],num[1][9]],\n",
    "                 '2':[num[2][0],num[2][1],num[2][2],num[2][3],num[2][4],num[2][5],num[2][6],num[2][7],num[2][8],num[2][9]],\n",
    "                 '3':[num[3][0],num[3][1],num[3][2],num[3][3],num[3][4],num[3][5],num[3][6],num[3][7],num[3][8],num[3][9]],\n",
    "                 '4':[num[4][0],num[4][1],num[4][2],num[4][3],num[4][4],num[4][5],num[4][6],num[4][7],num[4][8],num[4][9]],\n",
    "                 '5':[num[5][0],num[5][1],num[5][2],num[5][3],num[5][4],num[5][5],num[5][6],num[5][7],num[5][8],num[5][9]],\n",
    "                 '6':[num[6][0],num[6][1],num[6][2],num[6][3],num[6][4],num[6][5],num[6][6],num[6][7],num[6][8],num[6][9]],\n",
    "                 '7':[num[7][0],num[7][1],num[7][2],num[7][3],num[7][4],num[7][5],num[7][6],num[7][7],num[7][8],num[7][9]],\n",
    "                 '8':[num[8][0],num[8][1],num[8][2],num[8][3],num[8][4],num[8][5],num[8][6],num[8][7],num[8][8],num[8][9]],\n",
    "                 '9':[num[9][0],num[9][1],num[9][2],num[9][3],num[9][4],num[9][5],num[9][6],num[9][7],num[9][8],num[9][9]],\n",
    "                },index=['0','1','2','3','4','5','6','7','8','9']) \n",
    "    \n",
    "df"
   ]
  },
  {
   "cell_type": "markdown",
   "metadata": {},
   "source": [
    "# Present the best F1 score among the results with different number of parameters p"
   ]
  },
  {
   "cell_type": "code",
   "execution_count": 12,
   "metadata": {},
   "outputs": [
    {
     "name": "stdout",
     "output_type": "stream",
     "text": [
      "best p is 512\n"
     ]
    },
    {
     "data": {
      "image/png": "[encoded data removed]",
      "text/plain": [
       "<Figure size 432x288 with 1 Axes>"
      ]
     },
     "metadata": {
      "needs_background": "light"
     },
     "output_type": "display_data"
    }
   ],
   "source": [
    "m=pd.Series(f1_result).idxmax()\n",
    "print(\"best p is \" +str(p[m]))\n",
    "plt.figure()\n",
    "plt.plot(f1_result,color='r',label='F1')\n",
    "plt.legend()\n",
    "plt.show()"
   ]
  }
 ],
 "metadata": {
  "kernelspec": {
   "display_name": "Python 3",
   "language": "python",
   "name": "python3"
  },
  "language_info": {
   "codemirror_mode": {
    "name": "ipython",
    "version": 3
   },
   "file_extension": ".py",
   "mimetype": "text/x-python",
   "name": "python",
   "nbconvert_exporter": "python",
   "pygments_lexer": "ipython3",
   "version": "3.6.7"
  }
 },
 "nbformat": 4,
 "nbformat_minor": 2
}
