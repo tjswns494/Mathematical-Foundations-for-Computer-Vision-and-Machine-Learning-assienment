{
 "cells": [
  {
   "cell_type": "markdown",
   "metadata": {},
   "source": [
    "# This script demonstrates the k-means algorithm\n",
    "# Name : Sunjun Hwang\n",
    "# Student ID : 20151766\n",
    "# github link : https://github.com/tjswns494/Mathematical-Foundations-for-Computer-Vision-and-Machine-Learning-assignment.git"
   ]
  },
  {
   "cell_type": "markdown",
   "metadata": {},
   "source": [
    "# import packages for plotting images and manipulating data:"
   ]
  },
  {
   "cell_type": "code",
   "execution_count": 1,
   "metadata": {},
   "outputs": [],
   "source": [
    "import numpy as np\n",
    "import matplotlib.pyplot as plt\n",
    "import random\n",
    "import math"
   ]
  },
  {
   "cell_type": "markdown",
   "metadata": {},
   "source": [
    "# define variable"
   ]
  },
  {
   "cell_type": "code",
   "execution_count": 2,
   "metadata": {},
   "outputs": [],
   "source": [
    "file_data   = \"mnist_test.csv\"\n",
    "handle_file = open(file_data, \"r\")\n",
    "data        = handle_file.readlines()\n",
    "handle_file.close()\n",
    "\n",
    "size_row    = 28    # height of the image\n",
    "size_col    = 28    # width of the image\n",
    "\n",
    "num_image   = len(data)\n",
    "count       = 0     # count for the number of images"
   ]
  },
  {
   "cell_type": "markdown",
   "metadata": {},
   "source": [
    "# normalize the values of the input data to be [0, 1]"
   ]
  },
  {
   "cell_type": "code",
   "execution_count": 3,
   "metadata": {},
   "outputs": [],
   "source": [
    "def normalize(data):\n",
    "\n",
    "    data_normalized = (data - min(data)) / (max(data) - min(data))\n",
    "\n",
    "    return(data_normalized)"
   ]
  },
  {
   "cell_type": "markdown",
   "metadata": {},
   "source": [
    "# define the distance between two vectors"
   ]
  },
  {
   "cell_type": "code",
   "execution_count": 4,
   "metadata": {},
   "outputs": [],
   "source": [
    "def computeDistance(x, y):\n",
    "    distance=0\n",
    "    for i in range(0,len(x),1):\n",
    "        distance+=math.pow(x[i]-y[i],2)\n",
    "    return distance"
   ]
  },
  {
   "cell_type": "markdown",
   "metadata": {},
   "source": [
    "# define the center point of each clusters"
   ]
  },
  {
   "cell_type": "code",
   "execution_count": 5,
   "metadata": {},
   "outputs": [],
   "source": [
    "def computeCentroid(list_image,kmeans_label,cluster_num):\n",
    "    labelnum=[0 for cols in range(cluster_num)]\n",
    "    centroid=np.zeros((cluster_num,size_row*size_col),dtype=float)\n",
    "\n",
    "    for i in range(0,len(list_image),1):\n",
    "        centroid[kmeans_label[i][0]]+=list_image[i]\n",
    "        labelnum[kmeans_label[i][0]]+=1\n",
    "    for i in range(0,cluster_num,1):\n",
    "            if(labelnum[i]==0):\n",
    "                for j in range(0,len(centroid[0]),1):\n",
    "                    centroid[i][j]=0\n",
    "            else:\n",
    "                centroid[i]=centroid[i]/labelnum[i]\n",
    "    return centroid"
   ]
  },
  {
   "cell_type": "markdown",
   "metadata": {},
   "source": [
    "# define the initial label to each vectors"
   ]
  },
  {
   "cell_type": "code",
   "execution_count": 6,
   "metadata": {},
   "outputs": [],
   "source": [
    "def initialiseLabel(kmeans_label,cluster_num):\n",
    "    randomnum=[0 for cols in range(len(kmeans_label))]\n",
    "    for i in range(0,len(kmeans_label),1):\n",
    "        randomnum[i]=i%cluster_num\n",
    "    random.shuffle(randomnum)\n",
    "    for i in range(0,len(kmeans_label),1):\n",
    "        kmeans_label[i][0]=randomnum[i]\n",
    "    return kmeans_label"
   ]
  },
  {
   "cell_type": "markdown",
   "metadata": {},
   "source": [
    "# define the label to given images"
   ]
  },
  {
   "cell_type": "code",
   "execution_count": 7,
   "metadata": {},
   "outputs": [],
   "source": [
    "def assignLabel(list_image,centroid,kmeans_label):\n",
    "\n",
    "    distance=0\n",
    "    for i in range(0,len(kmeans_label),1):\n",
    "        for j in range(0,len(centroid),1):\n",
    "            distance=computeDistance(centroid[j],list_image[i])\n",
    "            if(j==0):\n",
    "                min=distance\n",
    "                kmeans_label[i][0]=0\n",
    "            elif(min>distance):\n",
    "                min=distance\n",
    "                kmeans_label[i][0]=j\n",
    "        kmeans_label[i][1]=min\n",
    "    return kmeans_label"
   ]
  },
  {
   "cell_type": "markdown",
   "metadata": {},
   "source": [
    "# define the energy for each clusters"
   ]
  },
  {
   "cell_type": "code",
   "execution_count": 8,
   "metadata": {},
   "outputs": [],
   "source": [
    "def computeEnergy(kmeans_label,cluster_num):\n",
    "    energy=0\n",
    "    for i in range(0,len(kmeans_label),1):\n",
    "        energy+=kmeans_label[i][1]\n",
    "    energy/=cluster_num\n",
    "    return energy"
   ]
  },
  {
   "cell_type": "markdown",
   "metadata": {},
   "source": [
    "# define the accuracy"
   ]
  },
  {
   "cell_type": "code",
   "execution_count": 9,
   "metadata": {},
   "outputs": [],
   "source": [
    "def computeAccuracy(kmeans_label,list_label,cluster_num):\n",
    "    accuracy=0\n",
    "    label_table=np.zeros((cluster_num,10),dtype=int)\n",
    "    for i in range(0,len(kmeans_label),1):\n",
    "        label_table[kmeans_label[i][0]][list_label[i]]+=1\n",
    "    for i in range(0,cluster_num,1):\n",
    "        num=0\n",
    "        for j in range(0,10,1):\n",
    "            num+=label_table[i][j]\n",
    "            if(j==0):\n",
    "                max=label_table[i][j]\n",
    "            elif(max<label_table[i][j]):\n",
    "                max=label_table[i][j]\n",
    "        accuracy+=(max/num)\n",
    "    accuracy/=cluster_num\n",
    "    return accuracy"
   ]
  },
  {
   "cell_type": "markdown",
   "metadata": {},
   "source": [
    "# make a matrix each column of which represents an images in a vector form "
   ]
  },
  {
   "cell_type": "code",
   "execution_count": 10,
   "metadata": {},
   "outputs": [],
   "source": [
    "cluster_num=2\n",
    "list_image  = np.empty((size_row * size_col, num_image), dtype=float)\n",
    "list_label  = np.empty(num_image, dtype=int)\n",
    "kmeans_label  = np.empty((num_image,2), dtype=int)\n",
    "centroid=np.zeros((cluster_num,size_row*size_col),dtype=float)\n",
    "im_average  = np.zeros((size_row * size_col, 10), dtype=float)\n",
    "\n",
    "for line in data:\n",
    "\n",
    "    line_data   = line.split(',')\n",
    "    label       = line_data[0]\n",
    "    im_vector   = np.asfarray(line_data[1:])\n",
    "    im_vector   = normalize(im_vector)\n",
    "\n",
    "    list_label[count]       = label\n",
    "    list_image[:, count]    = im_vector    \n",
    "\n",
    "    count += 1"
   ]
  },
  {
   "cell_type": "markdown",
   "metadata": {},
   "source": [
    "# visualize initial centroid images"
   ]
  },
  {
   "cell_type": "code",
   "execution_count": 11,
   "metadata": {},
   "outputs": [
    {
     "data": {
      "image/png": "[encoded data removed]",
      "text/plain": [
       "<Figure size 432x288 with 2 Axes>"
      ]
     },
     "metadata": {},
     "output_type": "display_data"
    }
   ],
   "source": [
    "kmeans_label=initialiseLabel(kmeans_label,cluster_num)\n",
    "centroid=computeCentroid(list_image.T,kmeans_label,cluster_num)\n",
    "for i in range(cluster_num):\n",
    "    \n",
    "    plt.subplot(2, 5, i+1)\n",
    "    plt.title(i)\n",
    "    plt.imshow(centroid.T[:,i].reshape((size_row, size_col)), cmap='Greys', interpolation='None') \n",
    "\n",
    "    frame   = plt.gca()\n",
    "    frame.axes.get_xaxis().set_visible(False)\n",
    "    frame.axes.get_yaxis().set_visible(False)\n",
    "\n",
    "plt.show()"
   ]
  },
  {
   "cell_type": "markdown",
   "metadata": {},
   "source": [
    "# calculate energy until ex-energy and current energy is equal"
   ]
  },
  {
   "cell_type": "code",
   "execution_count": 12,
   "metadata": {},
   "outputs": [],
   "source": [
    "num=0\n",
    "energy=0\n",
    "exenergy=-1\n",
    "accuracy_table=np.zeros(10,dtype=float)\n",
    "energy_table=np.zeros(10,dtype=float)\n",
    "while energy!=exenergy:  \n",
    "#for i in range(0,10,1):\n",
    "    kmeans_label=assignLabel(list_image.T,centroid,kmeans_label)\n",
    "    energy_table[i]=computeEnergy(kmeans_label,cluster_num)\n",
    "    exenergy=energy\n",
    "    energy=energy_table[i]\n",
    "    accuracy_table[i]=computeAccuracy(kmeans_label,list_label,cluster_num)\n",
    "    centroid=computeCentroid(list_image.T,kmeans_label,cluster_num)\n",
    "    num+=1"
   ]
  },
  {
   "cell_type": "markdown",
   "metadata": {},
   "source": [
    "# visualize energy per iteration"
   ]
  },
  {
   "cell_type": "code",
   "execution_count": 13,
   "metadata": {},
   "outputs": [
    {
     "data": {
      "image/png": "[encoded data removed]",
      "text/plain": [
       "<Figure size 432x288 with 1 Axes>"
      ]
     },
     "metadata": {},
     "output_type": "display_data"
    }
   ],
   "source": [
    "plt.figure()\n",
    "plt.xlim(0,num-1)\n",
    "plt.plot(energy_table,color='r',label='energy')\n",
    "plt.legend()\n",
    "plt.show()"
   ]
  },
  {
   "cell_type": "markdown",
   "metadata": {},
   "source": [
    "asdf"
   ]
  },
  {
   "cell_type": "markdown",
   "metadata": {},
   "source": []
  },
  {
   "cell_type": "markdown",
   "metadata": {},
   "source": [
    "# visualize Accuracy per iteration"
   ]
  },
  {
   "cell_type": "code",
   "execution_count": 14,
   "metadata": {},
   "outputs": [
    {
     "data": {
      "image/png": "[encoded data removed]",
      "text/plain": [
       "<Figure size 432x288 with 1 Axes>"
      ]
     },
     "metadata": {},
     "output_type": "display_data"
    }
   ],
   "source": [
    "plt.figure()\n",
    "plt.xlim(0,num-1)\n",
    "plt.plot(accuracy_table,color='g',label='accuracy')\n",
    "plt.legend()\n",
    "plt.show()"
   ]
  },
  {
   "cell_type": "markdown",
   "metadata": {},
   "source": [
    "# visualize final centroid image"
   ]
  },
  {
   "cell_type": "code",
   "execution_count": 15,
   "metadata": {},
   "outputs": [
    {
     "data": {
      "image/png": "[encoded data removed]",
      "text/plain": [
       "<Figure size 432x288 with 2 Axes>"
      ]
     },
     "metadata": {},
     "output_type": "display_data"
    }
   ],
   "source": [
    "for i in range(cluster_num):\n",
    "    \n",
    "    plt.subplot(2, 5, i+1)\n",
    "    plt.title(i)\n",
    "    plt.imshow(centroid.T[:,i].reshape((size_row, size_col)), cmap='Greys', interpolation='None') \n",
    "\n",
    "    frame   = plt.gca()\n",
    "    frame.axes.get_xaxis().set_visible(False)\n",
    "    frame.axes.get_yaxis().set_visible(False)\n",
    "\n",
    "plt.show()"
   ]
  },
  {
   "cell_type": "code",
   "execution_count": null,
   "metadata": {},
   "outputs": [],
   "source": []
  }
 ],
 "metadata": {
  "kernelspec": {
   "display_name": "Python 3",
   "language": "python",
   "name": "python3"
  },
  "language_info": {
   "codemirror_mode": {
    "name": "ipython",
    "version": 3
   },
   "file_extension": ".py",
   "mimetype": "text/x-python",
   "name": "python",
   "nbconvert_exporter": "python",
   "pygments_lexer": "ipython3",
   "version": "3.6.5"
  }
 },
 "nbformat": 4,
 "nbformat_minor": 2
}
