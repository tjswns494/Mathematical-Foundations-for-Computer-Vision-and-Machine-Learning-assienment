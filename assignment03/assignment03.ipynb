{
 "cells": [
  {
   "cell_type": "markdown",
   "metadata": {},
   "source": [
    "# This script demonstrates the k-means algorithm\n",
    "# Name : Sunjun Hwang\n",
    "# Student ID : 20151766\n",
    "# github link : https://github.com/tjswns494/Mathematical-Foundations-for-Computer-Vision-and-Machine-Learning-assignment.git"
   ]
  },
  {
   "cell_type": "markdown",
   "metadata": {},
   "source": [
    "# import packages for plotting graphs and manipulating data:"
   ]
  },
  {
   "cell_type": "code",
   "execution_count": 1,
   "metadata": {},
   "outputs": [],
   "source": [
    "import numpy as np\n",
    "import matplotlib.pyplot as plt\n",
    "import random\n",
    "import math"
   ]
  },
  {
   "cell_type": "markdown",
   "metadata": {},
   "source": [
    "# define the average function which calculate average of the given list"
   ]
  },
  {
   "cell_type": "code",
   "execution_count": 2,
   "metadata": {},
   "outputs": [],
   "source": [
    "def average(list):\n",
    "    num = 0\n",
    "    for i in range (len(list)):\n",
    "        num = num + list[i]\n",
    "    return (num)/len(list)"
   ]
  },
  {
   "cell_type": "markdown",
   "metadata": {},
   "source": [
    "# generate the points around the given cluster point"
   ]
  },
  {
   "cell_type": "code",
   "execution_count": 3,
   "metadata": {},
   "outputs": [],
   "source": [
    "def generatePointCluster(cluster,cluster_point,point_num):\n",
    "    for i in range(0,len(cluster_point),1):\n",
    "        randx=[0 for rows in range(point_num)]\n",
    "        randy=[0 for rows in range(point_num)]\n",
    "        for j in range(0,point_num,1):\n",
    "            randx[j]=random.random()\n",
    "            randy[j]=random.random()\n",
    "        averagex=average(randx)\n",
    "        averagey=average(randy)\n",
    "        demeanx=[0 for rows in range(point_num)]\n",
    "        demeany=[0 for rows in range(point_num)]\n",
    "        for j in range(0,point_num,1):\n",
    "            demeanx[j]=int((randx[j]-averagex)*100)\n",
    "            demeany[j]=int((randy[j]-averagey)*100)\n",
    "            cluster[i*point_num+j][0]=cluster_point[i][0]+demeanx[j]\n",
    "            cluster[i*point_num+j][1]=cluster_point[i][1]+demeany[j]\n",
    "    return cluster"
   ]
  },
  {
   "cell_type": "markdown",
   "metadata": {},
   "source": [
    "# define the distance between two points"
   ]
  },
  {
   "cell_type": "code",
   "execution_count": 4,
   "metadata": {},
   "outputs": [],
   "source": [
    "def computeDistance(point1,point2):\n",
    "    distance=math.pow((point1[0]-point2[0]),2)+math.pow((point1[1]-point2[1]),2)\n",
    "    return distance"
   ]
  },
  {
   "cell_type": "markdown",
   "metadata": {},
   "source": [
    "# define the initial label to each points"
   ]
  },
  {
   "cell_type": "code",
   "execution_count": 5,
   "metadata": {},
   "outputs": [],
   "source": [
    "def initialiseLabel(cluster,cluster_num):\n",
    "    randomnum=[0 for cols in range(len(cluster))]\n",
    "    for i in range(0,len(cluster),1):\n",
    "        randomnum[i]=i%3\n",
    "    random.shuffle(randomnum)\n",
    "    for i in range(0,len(cluster),1):\n",
    "        cluster[i][2]=randomnum[i]\n",
    "    return cluster"
   ]
  },
  {
   "cell_type": "markdown",
   "metadata": {},
   "source": [
    "# define the center point of each clusters"
   ]
  },
  {
   "cell_type": "code",
   "execution_count": 6,
   "metadata": {},
   "outputs": [],
   "source": [
    "def computeCentroid(centroid,cluster,cluster_num):\n",
    "    labelnum=[0 for cols in range(cluster_num)]\n",
    "    for i in range(0,cluster_num,1):\n",
    "        centroid[i][0]=0\n",
    "        centroid[i][1]=0\n",
    "\n",
    "    for i in range(0,len(cluster),1):\n",
    "        centroid[(cluster[i][2])][0]+=int(cluster[i][0])\n",
    "        centroid[(cluster[i][2])][1]+=int(cluster[i][1])\n",
    "        labelnum[(cluster[i][2])]+=1\n",
    "    for i in range(0,cluster_num,1):\n",
    "        if(labelnum[i]==0):\n",
    "            centroid[i][0]=0\n",
    "            centroid[i][1]=0\n",
    "        else:\n",
    "            centroid[i][0]=int(int(centroid[i][0])/labelnum[i])\n",
    "            centroid[i][1]=int(int(centroid[i][1])/labelnum[i])\n",
    "    return centroid"
   ]
  },
  {
   "cell_type": "markdown",
   "metadata": {},
   "source": [
    "# define the label to given points"
   ]
  },
  {
   "cell_type": "code",
   "execution_count": 7,
   "metadata": {},
   "outputs": [],
   "source": [
    "def assignLabel(cluster,centroid):\n",
    "\n",
    "    distance=0\n",
    "    for i in range(0,len(cluster),1):\n",
    "        for j in range(0,len(centroid),1):\n",
    "            distance=computeDistance(centroid[j],cluster[i])\n",
    "            if(j==0):\n",
    "                min=distance\n",
    "                cluster[i][2]=0\n",
    "            elif(min>distance):\n",
    "                min=distance\n",
    "                cluster[i][2]=j\n",
    "    return cluster"
   ]
  },
  {
   "cell_type": "markdown",
   "metadata": {},
   "source": [
    "# define the energy of each cluster"
   ]
  },
  {
   "cell_type": "code",
   "execution_count": 8,
   "metadata": {},
   "outputs": [],
   "source": [
    "def computeEnergy(cluster,centroid):\n",
    "    energy=0\n",
    "    for i in range(0,len(cluster),1):\n",
    "        energy+=computeDistance(centroid[cluster[i][2]],cluster[i])\n",
    "    energy/=len(cluster)\n",
    "    return energy"
   ]
  },
  {
   "cell_type": "markdown",
   "metadata": {},
   "source": [
    "# get cluster number & center point\n",
    "point_num is the number of points we will generate for each cluster"
   ]
  },
  {
   "cell_type": "code",
   "execution_count": 9,
   "metadata": {},
   "outputs": [
    {
     "name": "stdout",
     "output_type": "stream",
     "text": [
      "write the number of cluster:3\n",
      "x position:100\n",
      "y position:100\n",
      "100 100\n",
      "x position:-100\n",
      "y position:-100\n",
      "-100 -100\n",
      "x position:100\n",
      "y position:-100\n",
      "100 -100\n"
     ]
    }
   ],
   "source": [
    "cluster_num=int(input(\"write the number of cluster:\"))\n",
    "point_num=100\n",
    "cluster_point=[[0 for cols in range(3)]for rows in range(cluster_num)]\n",
    "for i in range(0,cluster_num,1):\n",
    "    cluster_point[i][0]=input(\"x position:\")\n",
    "    cluster_point[i][1]=input(\"y position:\")\n",
    "    cluster_point[i][0]=int(cluster_point[i][0])\n",
    "    cluster_point[i][1]=int(cluster_point[i][1])\n",
    "    print(cluster_point[i][0],cluster_point[i][1])"
   ]
  },
  {
   "cell_type": "markdown",
   "metadata": {},
   "source": [
    "# declare cluster & centroid array"
   ]
  },
  {
   "cell_type": "code",
   "execution_count": 10,
   "metadata": {},
   "outputs": [],
   "source": [
    "cluster=[[0 for cols in range(3)]for rows in range(len(cluster_point)*point_num)]\n",
    "centroid=[[0 for cols in range(2)]for rows in range(cluster_num)]"
   ]
  },
  {
   "cell_type": "markdown",
   "metadata": {},
   "source": [
    "# generate cluster & initialize label for each points"
   ]
  },
  {
   "cell_type": "code",
   "execution_count": 11,
   "metadata": {},
   "outputs": [],
   "source": [
    "cluster=generatePointCluster(cluster,cluster_point,point_num)\n",
    "cluster=initialiseLabel(cluster,cluster_num)\n"
   ]
  },
  {
   "cell_type": "markdown",
   "metadata": {},
   "source": [
    "# plot the points"
   ]
  },
  {
   "cell_type": "code",
   "execution_count": 12,
   "metadata": {},
   "outputs": [
    {
     "data": {
      "image/png": "[encoded data removed]",
      "text/plain": [
       "<Figure size 432x288 with 1 Axes>"
      ]
     },
     "metadata": {},
     "output_type": "display_data"
    }
   ],
   "source": [
    "x = np.arange(-150, 150, 0.1)\n",
    "\n",
    "for i in range(0,len(cluster),1):\n",
    "    if(cluster[i][2]==0):\n",
    "        plt.plot( cluster[i][0], cluster[i][1], marker='o', color='black')\n",
    "    elif(cluster[i][2]==1):\n",
    "        plt.plot( cluster[i][0], cluster[i][1], marker='o', color='r')\n",
    "    elif(cluster[i][2]==2):\n",
    "        plt.plot( cluster[i][0], cluster[i][1], marker='o', color='y')\n",
    "    elif(cluster[i][2]==3):\n",
    "        plt.plot( cluster[i][0], cluster[i][1], marker='o', color='g')\n",
    "    elif(cluster[i][2]==4):\n",
    "        plt.plot( cluster[i][0], cluster[i][1], marker='o', color='b')\n",
    "plt.show()"
   ]
  },
  {
   "cell_type": "markdown",
   "metadata": {},
   "source": [
    "all the point's labels are mixed"
   ]
  },
  {
   "cell_type": "markdown",
   "metadata": {},
   "source": [
    "# compute the centroid for each label"
   ]
  },
  {
   "cell_type": "code",
   "execution_count": 13,
   "metadata": {},
   "outputs": [
    {
     "name": "stdout",
     "output_type": "stream",
     "text": [
      "( 27 , -36 )\n",
      "( 31 , -36 )\n",
      "( 41 , -27 )\n"
     ]
    }
   ],
   "source": [
    "centroid=computeCentroid(centroid,cluster,cluster_num)\n",
    "for i in range(0,len(centroid),1):\n",
    "    print(\"(\",centroid[i][0],\",\",centroid[i][1],\")\")"
   ]
  },
  {
   "cell_type": "markdown",
   "metadata": {},
   "source": [
    "# calculate energy until ex-energy and current energy is equal"
   ]
  },
  {
   "cell_type": "code",
   "execution_count": 14,
   "metadata": {},
   "outputs": [
    {
     "name": "stdout",
     "output_type": "stream",
     "text": [
      "5483.066666666667\n",
      "1594.5066666666667\n",
      "1594.5066666666667\n"
     ]
    }
   ],
   "source": [
    "energy=0\n",
    "exenergy=-1\n",
    "while energy!=exenergy:\n",
    "    cluster=assignLabel(cluster,centroid)\n",
    "    centroid=computeCentroid(centroid,cluster,cluster_num)\n",
    "    exenergy=energy\n",
    "    energy=computeEnergy(cluster,centroid)\n",
    "    print(energy)"
   ]
  },
  {
   "cell_type": "markdown",
   "metadata": {},
   "source": [
    "# print final label"
   ]
  },
  {
   "cell_type": "code",
   "execution_count": 15,
   "metadata": {},
   "outputs": [
    {
     "data": {
      "image/png": "[encoded data removed]",
      "text/plain": [
       "<Figure size 432x288 with 1 Axes>"
      ]
     },
     "metadata": {},
     "output_type": "display_data"
    }
   ],
   "source": [
    "x = np.arange(-150, 150, 0.1)\n",
    "\n",
    "for i in range(0,len(cluster),1):\n",
    "    if(cluster[i][2]==0):\n",
    "        plt.plot( cluster[i][0], cluster[i][1], marker='o', color='black')\n",
    "    elif(cluster[i][2]==1):\n",
    "        plt.plot( cluster[i][0], cluster[i][1], marker='o', color='r')\n",
    "    elif(cluster[i][2]==2):\n",
    "        plt.plot( cluster[i][0], cluster[i][1], marker='o', color='y')\n",
    "    elif(cluster[i][2]==3):\n",
    "        plt.plot( cluster[i][0], cluster[i][1], marker='o', color='g')\n",
    "    elif(cluster[i][2]==4):\n",
    "        plt.plot( cluster[i][0], cluster[i][1], marker='o', color='b')\n",
    "plt.show()"
   ]
  },
  {
   "cell_type": "markdown",
   "metadata": {},
   "source": [
    "all of the points are well clustered"
   ]
  },
  {
   "cell_type": "markdown",
   "metadata": {},
   "source": [
    "# print final centroid"
   ]
  },
  {
   "cell_type": "code",
   "execution_count": 16,
   "metadata": {},
   "outputs": [
    {
     "name": "stdout",
     "output_type": "stream",
     "text": [
      "( -100 , -100 )\n",
      "( 100 , -99 )\n",
      "( 99 , 99 )\n"
     ]
    }
   ],
   "source": [
    "centroid=computeCentroid(centroid,cluster,cluster_num)\n",
    "for i in range(0,len(centroid),1):\n",
    "    print(\"(\",centroid[i][0],\",\",centroid[i][1],\")\")"
   ]
  }
 ],
 "metadata": {
  "kernelspec": {
   "display_name": "Python 3",
   "language": "python",
   "name": "python3"
  },
  "language_info": {
   "codemirror_mode": {
    "name": "ipython",
    "version": 3
   },
   "file_extension": ".py",
   "mimetype": "text/x-python",
   "name": "python",
   "nbconvert_exporter": "python",
   "pygments_lexer": "ipython3",
   "version": "3.6.5"
  }
 },
 "nbformat": 4,
 "nbformat_minor": 2
}
