{
 "cells": [
  {
   "cell_type": "markdown",
   "metadata": {},
   "source": [
    "# This script demonstrates the least square approximate solution\n",
    "# Name : Sunjun Hwang\n",
    "# Student ID : 20151766\n",
    "# github link : https://github.com/tjswns494/Mathematical-Foundations-for-Computer-Vision-and-Machine-Learning-assignment.git\n"
   ]
  },
  {
   "cell_type": "markdown",
   "metadata": {},
   "source": [
    "# import packages for plotting images and manipulating data and construct table:"
   ]
  },
  {
   "cell_type": "code",
   "execution_count": 1,
   "metadata": {},
   "outputs": [],
   "source": [
    "import matplotlib.pyplot as plt\n",
    "import numpy as np\n",
    "import pandas as pd"
   ]
  },
  {
   "cell_type": "markdown",
   "metadata": {},
   "source": [
    "# read image"
   ]
  },
  {
   "cell_type": "code",
   "execution_count": 2,
   "metadata": {},
   "outputs": [],
   "source": [
    "file_data_train = \"mnist_train.csv\"\n",
    "file_data_test  = \"mnist_test.csv\"\n",
    "\n",
    "h_data_train    = open(file_data_train, \"r\")\n",
    "h_data_test     = open(file_data_test, \"r\")\n",
    "\n",
    "data_train      = h_data_train.readlines()\n",
    "data_test       = h_data_test.readlines()\n",
    "\n",
    "h_data_train.close()\n",
    "h_data_test.close()\n",
    "\n",
    "size_row    = 28    # height of the image\n",
    "size_col    = 28    # width of the image\n",
    "\n",
    "num_train   = len(data_train)   # number of training images\n",
    "num_test    = len(data_test)    # number of testing images\n"
   ]
  },
  {
   "cell_type": "markdown",
   "metadata": {},
   "source": [
    "# define normalize function"
   ]
  },
  {
   "cell_type": "code",
   "execution_count": 3,
   "metadata": {},
   "outputs": [],
   "source": [
    "\n",
    "#\n",
    "# normalize the values of the input data to be [0, 1]\n",
    "#\n",
    "def normalize(data):\n",
    "\n",
    "    data_normalized = (data - min(data)) / (max(data) - min(data))\n",
    "\n",
    "    return(data_normalized)"
   ]
  },
  {
   "cell_type": "markdown",
   "metadata": {},
   "source": [
    "# make a matrix each column of which represents an images in a vector form "
   ]
  },
  {
   "cell_type": "code",
   "execution_count": 4,
   "metadata": {},
   "outputs": [],
   "source": [
    "list_image_train    = np.empty((size_row * size_col, num_train), dtype=float)\n",
    "list_label_train    = np.empty(num_train, dtype=int)\n",
    "\n",
    "list_image_test     = np.empty((size_row * size_col, num_test), dtype=float)\n",
    "list_label_test     = np.empty(num_test, dtype=int)"
   ]
  },
  {
   "cell_type": "markdown",
   "metadata": {},
   "source": [
    "# split image in to one column vector"
   ]
  },
  {
   "cell_type": "code",
   "execution_count": 5,
   "metadata": {},
   "outputs": [],
   "source": [
    "count = 0\n",
    "\n",
    "for line in data_train:\n",
    "\n",
    "    line_data   = line.split(',')\n",
    "    label       = line_data[0]\n",
    "    im_vector   = np.asfarray(line_data[1:])\n",
    "    im_vector   = normalize(im_vector)\n",
    "\n",
    "    list_label_train[count]     = label\n",
    "    list_image_train[:, count]  = im_vector    \n",
    "\n",
    "    count += 1\n",
    "\n",
    "count = 0\n",
    "\n",
    "for line in data_test:\n",
    "\n",
    "    line_data   = line.split(',')\n",
    "    label       = line_data[0]\n",
    "    im_vector   = np.asfarray(line_data[1:])\n",
    "    im_vector   = normalize(im_vector)\n",
    "\n",
    "    list_label_test[count]      = label\n",
    "    list_image_test[:, count]   = im_vector    \n",
    "\n",
    "    count += 1\n"
   ]
  },
  {
   "cell_type": "markdown",
   "metadata": {},
   "source": [
    "# define b= -1 if b is not 0, b=1 if b is 0"
   ]
  },
  {
   "cell_type": "code",
   "execution_count": 6,
   "metadata": {},
   "outputs": [],
   "source": [
    "b=list_label_train.T\n",
    "for i in range (b.size):\n",
    "        if b[i]!=0:\n",
    "            b[i]=-1\n",
    "        else:\n",
    "            b[i]=1"
   ]
  },
  {
   "cell_type": "markdown",
   "metadata": {},
   "source": [
    "# define least square function"
   ]
  },
  {
   "cell_type": "code",
   "execution_count": 7,
   "metadata": {},
   "outputs": [],
   "source": [
    "\n",
    "def lsp(list_image_train,list_label_train,p):\n",
    "    result=np.zeros(list_label_train.size)\n",
    "    A=list_image_train.T\n",
    "    s=np.random.normal(0, 1, (p,784))\n",
    "    A1=s.dot(A.T)\n",
    "    \n",
    "    lsp_result=np.linalg.pinv(A1.dot(A1.T)).dot(A1).dot(b)\n",
    "    test=s.dot(list_image_test)\n",
    "    for i in range(p):\n",
    "        result=lsp_result.dot(test)\n",
    "    return result\n"
   ]
  },
  {
   "cell_type": "markdown",
   "metadata": {},
   "source": [
    "# define the ^{f} classifier"
   ]
  },
  {
   "cell_type": "code",
   "execution_count": 8,
   "metadata": {},
   "outputs": [],
   "source": [
    "def fhat(label):\n",
    "    for i in range (label.size):\n",
    "        if label[i]>=0:\n",
    "            label[i]=1\n",
    "        else:\n",
    "            label[i]=-1\n",
    "    return label\n"
   ]
  },
  {
   "cell_type": "markdown",
   "metadata": {},
   "source": [
    "# define F1"
   ]
  },
  {
   "cell_type": "code",
   "execution_count": 9,
   "metadata": {},
   "outputs": [],
   "source": [
    "def f1(fhat_result):\n",
    "    TF_classifier=np.zeros(fhat_result.size)\n",
    "    TP=np.zeros(size_row* size_col)\n",
    "    FP=np.zeros(size_row* size_col)\n",
    "    FN=np.zeros(size_row* size_col)\n",
    "    TN=np.zeros(size_row* size_col)\n",
    "    TP_num,FP_num,FN_num,TN_num=0,0,0,0\n",
    "\n",
    "    for i in range(fhat_result.size):\n",
    "        if fhat_result[i] == 1 and list_label_test.T[i]==0:\n",
    "            TF_classifier[i]=0 #it means TP\n",
    "            TP+=list_image_test.T[i]\n",
    "            TP_num+=1\n",
    "        elif fhat_result[i]==1 and list_label_test.T[i]!=0:\n",
    "            TF_classifier[i]=1 #it means FP\n",
    "            FP+=list_image_test.T[i]\n",
    "            FP_num+=1\n",
    "        elif fhat_result[i]==-1 and list_label_test.T[i]==0:\n",
    "            TF_classifier[i]=1 #it means FN\n",
    "            FN+=list_image_test.T[i]\n",
    "            FN_num+=1\n",
    "        elif fhat_result[i]==-1 and list_label_test.T[i]!=0:\n",
    "            TF_classifier[i]=1 #it means TN \n",
    "            TN+=list_image_test.T[i]\n",
    "            TN_num+=1\n",
    "    precision=TP_num/(TP_num+FP_num)\n",
    "    recall=TP_num/(FN_num+TP_num)\n",
    "    f1=2*precision*recall/(precision+recall)\n",
    "    TP=TP/TP_num\n",
    "    FP=FP/FP_num\n",
    "    FN=FN/FN_num\n",
    "    TN=TN/TN_num\n",
    "       \n",
    "    p1=plt.subplot(1,4,1)\n",
    "    p1.set_title('TP')\n",
    "    TP   = TP.reshape(size_row, size_col)\n",
    "    plt.imshow(TP, cmap='Greys')\n",
    "    plt.axis('off')\n",
    "    \n",
    "    p2=plt.subplot(1,4,2)\n",
    "    p2.set_title('FP')\n",
    "    FP   = FP.reshape(size_row, size_col)\n",
    "    plt.imshow(FP, cmap='Greys')\n",
    "    plt.axis('off')\n",
    "    \n",
    "    p3=plt.subplot(1,4,3)\n",
    "    p3.set_title('FN')\n",
    "    FN   = FN.reshape(size_row, size_col)\n",
    "    plt.imshow(TP, cmap='Greys')\n",
    "    plt.axis('off')\n",
    "       \n",
    "    p4=plt.subplot(1,4,4)\n",
    "    p4.set_title('TN')\n",
    "    TN   = TN.reshape(size_row, size_col)\n",
    "    plt.imshow(TN, cmap='Greys')\n",
    "    plt.axis('off')\n",
    "\n",
    "    plt.show()\n",
    "    return f1\n",
    "\n"
   ]
  },
  {
   "cell_type": "markdown",
   "metadata": {},
   "source": [
    "# results with different number of parameter p"
   ]
  },
  {
   "cell_type": "code",
   "execution_count": 11,
   "metadata": {},
   "outputs": [
    {
     "name": "stdout",
     "output_type": "stream",
     "text": [
      "p: 1000\n"
     ]
    },
    {
     "data": {
      "image/png": "[encoded data removed]",
      "text/plain": [
       "<Figure size 432x288 with 4 Axes>"
      ]
     },
     "metadata": {
      "needs_background": "light"
     },
     "output_type": "display_data"
    },
    {
     "name": "stdout",
     "output_type": "stream",
     "text": [
      "p: 1200\n"
     ]
    },
    {
     "data": {
      "image/png": "[encoded data removed]",
      "text/plain": [
       "<Figure size 432x288 with 4 Axes>"
      ]
     },
     "metadata": {
      "needs_background": "light"
     },
     "output_type": "display_data"
    },
    {
     "name": "stdout",
     "output_type": "stream",
     "text": [
      "p: 1400\n"
     ]
    },
    {
     "data": {
      "image/png": "[encoded data removed]",
      "text/plain": [
       "<Figure size 432x288 with 4 Axes>"
      ]
     },
     "metadata": {
      "needs_background": "light"
     },
     "output_type": "display_data"
    },
    {
     "name": "stdout",
     "output_type": "stream",
     "text": [
      "p: 1600\n"
     ]
    },
    {
     "data": {
      "image/png": "[encoded data removed]",
      "text/plain": [
       "<Figure size 432x288 with 4 Axes>"
      ]
     },
     "metadata": {
      "needs_background": "light"
     },
     "output_type": "display_data"
    },
    {
     "name": "stdout",
     "output_type": "stream",
     "text": [
      "p: 1800\n"
     ]
    },
    {
     "data": {
      "image/png": "[encoded data removed]",
      "text/plain": [
       "<Figure size 432x288 with 4 Axes>"
      ]
     },
     "metadata": {
      "needs_background": "light"
     },
     "output_type": "display_data"
    },
    {
     "name": "stdout",
     "output_type": "stream",
     "text": [
      "p: 2000\n"
     ]
    },
    {
     "data": {
      "image/png": "[encoded data removed]",
      "text/plain": [
       "<Figure size 432x288 with 4 Axes>"
      ]
     },
     "metadata": {
      "needs_background": "light"
     },
     "output_type": "display_data"
    },
    {
     "name": "stdout",
     "output_type": "stream",
     "text": [
      "p: 2200\n"
     ]
    },
    {
     "data": {
      "image/png": "[encoded data removed]",
      "text/plain": [
       "<Figure size 432x288 with 4 Axes>"
      ]
     },
     "metadata": {
      "needs_background": "light"
     },
     "output_type": "display_data"
    },
    {
     "name": "stdout",
     "output_type": "stream",
     "text": [
      "p: 2400\n"
     ]
    },
    {
     "data": {
      "image/png": "[encoded data removed]",
      "text/plain": [
       "<Figure size 432x288 with 4 Axes>"
      ]
     },
     "metadata": {
      "needs_background": "light"
     },
     "output_type": "display_data"
    },
    {
     "name": "stdout",
     "output_type": "stream",
     "text": [
      "p: 2600\n"
     ]
    },
    {
     "data": {
      "image/png": "[encoded data removed]",
      "text/plain": [
       "<Figure size 432x288 with 4 Axes>"
      ]
     },
     "metadata": {
      "needs_background": "light"
     },
     "output_type": "display_data"
    },
    {
     "name": "stdout",
     "output_type": "stream",
     "text": [
      "p: 2800\n"
     ]
    },
    {
     "data": {
      "image/png": "[encoded data removed]",
      "text/plain": [
       "<Figure size 432x288 with 4 Axes>"
      ]
     },
     "metadata": {
      "needs_background": "light"
     },
     "output_type": "display_data"
    }
   ],
   "source": [
    "f1_result=np.zeros(10)\n",
    "p=[1000,1200,1400,1600,1800,2000,2200,2400,2600,2800]\n",
    "for i in range(10):\n",
    "    print(\"p: \"+str(p[i]))\n",
    "    lsp_result=lsp(list_image_train,list_label_train,p[i])\n",
    "    fhat_result=fhat(lsp_result)\n",
    "    f1_result[i]=f1(fhat_result)"
   ]
  },
  {
   "cell_type": "markdown",
   "metadata": {},
   "source": [
    "# print best F1 score"
   ]
  },
  {
   "cell_type": "code",
   "execution_count": 12,
   "metadata": {},
   "outputs": [
    {
     "name": "stdout",
     "output_type": "stream",
     "text": [
      "best p is 1000\n"
     ]
    },
    {
     "data": {
      "image/png": "[encoded data removed]",
      "text/plain": [
       "<Figure size 432x288 with 1 Axes>"
      ]
     },
     "metadata": {
      "needs_background": "light"
     },
     "output_type": "display_data"
    }
   ],
   "source": [
    "m=pd.Series(f1_result).idxmax()\n",
    "print(\"best p is \" +str(p[m]))\n",
    "plt.figure()\n",
    "plt.plot(f1_result,color='r',label='F1')\n",
    "plt.legend()\n",
    "plt.show()"
   ]
  },
  {
   "cell_type": "code",
   "execution_count": null,
   "metadata": {},
   "outputs": [],
   "source": []
  }
 ],
 "metadata": {
  "kernelspec": {
   "display_name": "Python 3",
   "language": "python",
   "name": "python3"
  },
  "language_info": {
   "codemirror_mode": {
    "name": "ipython",
    "version": 3
   },
   "file_extension": ".py",
   "mimetype": "text/x-python",
   "name": "python",
   "nbconvert_exporter": "python",
   "pygments_lexer": "ipython3",
   "version": "3.6.7"
  }
 },
 "nbformat": 4,
 "nbformat_minor": 2
}
